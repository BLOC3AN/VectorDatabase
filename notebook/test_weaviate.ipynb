{
 "cells": [
  {
   "cell_type": "code",
   "execution_count": 7,
   "id": "b415cb41",
   "metadata": {},
   "outputs": [],
   "source": [
    "from tqdm import tqdm\n",
    "import weaviate\n",
    "import os\n",
    "import requests\n",
    "client = weaviate.connect_to_custom(\n",
    "    http_host=os.getenv(\"WEAVIATE_HTTP_HOST\"),\n",
    "    http_port=os.getenv(\"WEAVIATE_HTTP_PORT\"),\n",
    "    http_secure=False,\n",
    "    grpc_host=os.getenv(\"WEAVIATE_GRPC_HOST\"),\n",
    "    grpc_port=os.getenv(\"WEAVIATE_GRPC_PORT\"),\n",
    "    grpc_secure=False,\n",
    ")"
   ]
  },
  {
   "cell_type": "code",
   "execution_count": 9,
   "id": "e4f9670c",
   "metadata": {},
   "outputs": [
    {
     "data": {
      "text/plain": [
       "True"
      ]
     },
     "execution_count": 9,
     "metadata": {},
     "output_type": "execute_result"
    }
   ],
   "source": [
    "from weaviate.classes.config import Configure, Property, DataType\n",
    "client.is_ready()"
   ]
  },
  {
   "cell_type": "code",
   "execution_count": 32,
   "id": "659d2257",
   "metadata": {},
   "outputs": [],
   "source": [
    "embed_url = os.getenv(\"EMBEDDING_URL\")\n",
    "rerank_url = os.getenv(\"RERANK_URL\")\n",
    "doc_url = './intent_RAG-update.txt'\n",
    "collection_name = \"intent_RAG_1\""
   ]
  },
  {
   "cell_type": "code",
   "execution_count": 29,
   "id": "473d5d22",
   "metadata": {},
   "outputs": [
    {
     "data": {
      "text/plain": [
       "[['# BOOKING SERVICE INTENT - Đặt lịch dọn nhà',\n",
       "  'booking_service',\n",
       "  '- đặt lịch dọn nhà',\n",
       "  '- Đặt lịch dọn nhà cho tôi',\n",
       "  '- lịch dọn nhà',\n",
       "  '- muốn đặt lịch dọn nhà',\n",
       "  '- cần đặt lịch dọn nhà',\n",
       "  '- tôi muốn đặt lịch dọn nhà',\n",
       "  '- anh muốn đặt lịch dọn nhà',\n",
       "  '- em muốn đặt lịch dọn nhà',\n",
       "  '- đặt lịch dọn nhà giúp tôi',\n",
       "  '- đặt lịch dọn nhà hộ tôi',\n",
       "  '- book lịch dọn nhà',\n",
       "  '- đặt lịch dọn',\n",
       "  '- lịch dọn'],\n",
       " ['# BOOKING SERVICE INTENT - Đặt lịch dọn dẹp',\n",
       "  'booking_service',\n",
       "  '- Tôi muốn đặt lịch dọn dẹp nhà',\n",
       "  '- đặt lịch dọn dẹp',\n",
       "  '- lịch dọn dẹp',\n",
       "  '- muốn đặt lịch dọn dẹp',\n",
       "  '- cần đặt lịch dọn dẹp',\n",
       "  '- tôi muốn đặt lịch dọn dẹp'],\n",
       " ['# BOOKING SERVICE INTENT - Book dịch vụ',\n",
       "  'booking_service',\n",
       "  '- Tôi muốn book dịch vụ cleaning',\n",
       "  '- book dịch vụ dọn nhà',\n",
       "  '- Tôi muốn book cleaning service',\n",
       "  '- Book dịch vụ dọn dẹp nhà',\n",
       "  '- Tôi cần đặt lịch dọn dẹp',\n",
       "  '- Đặt dịch vụ vệ sinh nhà cửa',\n",
       "  '- Tôi muốn book cleaning service',\n",
       "  '- Cần đặt lịch dọn dẹp nhà vào cuối tuần',\n",
       "  '- Muốn đặt dịch vụ dọn nhà ngày mai',\n",
       "  '- Tôi muốn đặt lịch thuê dịch vụ dọn dẹp',\n",
       "  '- Book lịch dọn nhà cho tôi',\n",
       "  '- Đặt dịch vụ cleaning ngay',\n",
       "  '- Tôi muốn đặt lịch dọn dẹp nhà vào thứ 7',\n",
       "  '- Cần book dịch vụ dọn nhà gấp',\n",
       "  '- Muốn đặt lịch cleaning cho căn hộ',\n",
       "  '- Tôi muốn đặt lịch thuê người dọn dẹp nhà',\n",
       "  '- Đặt dịch vụ dọn nhà professional',\n",
       "  '- Book cleaning service cho nhà tôi',\n",
       "  '- Muốn đặt lịch dọn dẹp tổng thể',\n",
       "  '- đặt lịch dọn nhà',\n",
       "  '- đặt lịch dọn dẹp',\n",
       "  '- đặt lịch cleaning',\n",
       "  '- book dọn nhà',\n",
       "  '- book cleaning',\n",
       "  '- đặt dịch vụ dọn nhà',\n",
       "  '- đặt dịch vụ dọn dẹp',\n",
       "  '- thuê dịch vụ dọn nhà',\n",
       "  '- thuê người dọn nhà',\n",
       "  '- cần dọn nhà',\n",
       "  '- muốn dọn nhà',\n",
       "  '- dọn nhà giúp tôi',\n",
       "  '- tìm dịch vụ dọn nhà',\n",
       "  '- tìm người dọn nhà',\n",
       "  '- làm sạch nhà',\n",
       "  '- vệ sinh nhà cửa',\n",
       "  '- dọn dẹp nhà cửa',\n",
       "  '- cleaning service',\n",
       "  '- house cleaning',\n",
       "  '- home cleaning',\n",
       "  '- đặt lịch vệ sinh',\n",
       "  '- book vệ sinh nhà',\n",
       "  '- thuê cleaning',\n",
       "  '- cần cleaning service',\n",
       "  '- muốn thuê dọn nhà',\n",
       "  '- đặt lịch làm sạch nhà',\n",
       "  '- book dịch vụ làm sạch',\n",
       "  '- tôi cần dọn nhà',\n",
       "  '- giúp tôi dọn nhà',\n",
       "  '- dọn nhà hộ tôi',\n",
       "  '- làm sạch nhà hộ',\n",
       "  '- vệ sinh nhà hộ tôi',\n",
       "  '- lịch dọn nhà',\n",
       "  '- lịch dọn dẹp',\n",
       "  '- lịch cleaning',\n",
       "  '- lịch vệ sinh',\n",
       "  '- đặt lịch dọn',\n",
       "  '- đặt lịch vệ sinh nhà',\n",
       "  '- đặt lịch làm sạch',\n",
       "  '- muốn đặt lịch dọn nhà',\n",
       "  '- muốn đặt lịch dọn dẹp',\n",
       "  '- muốn đặt lịch cleaning',\n",
       "  '- cần đặt lịch dọn nhà',\n",
       "  '- cần đặt lịch dọn dẹp',\n",
       "  '- tôi muốn đặt lịch dọn nhà',\n",
       "  '- tôi muốn đặt lịch dọn dẹp',\n",
       "  '- tôi cần đặt lịch dọn nhà',\n",
       "  '- anh muốn đặt lịch dọn nhà',\n",
       "  '- em muốn đặt lịch dọn nhà',\n",
       "  '- chị muốn đặt lịch dọn nhà',\n",
       "  '- đặt lịch dọn nhà cho tôi',\n",
       "  '- đặt lịch dọn dẹp cho tôi',\n",
       "  '- book lịch dọn nhà cho tôi',\n",
       "  '- đặt lịch dọn nhà giúp tôi',\n",
       "  '- đặt lịch dọn dẹp giúp tôi'],\n",
       " ['# CANCEL SERVICE INTENT - Không muốn đặt lịch nữa',\n",
       "  'cancel_service',\n",
       "  '- Tôi không muốn đặt lịch nữa',\n",
       "  '- Hủy đặt dịch vụ',\n",
       "  '- Không cần book nữa',\n",
       "  '- Tôi thôi không đặt',\n",
       "  '- Cancel booking',\n",
       "  '- Không muốn thuê dịch vụ nữa',\n",
       "  '- Tôi đổi ý rồi không đặt',\n",
       "  '- Hủy lịch dọn nhà',\n",
       "  '- Không cần dịch vụ nữa',\n",
       "  '- Tôi không đặt lịch đâu',\n",
       "  '- Thôi không book nữa',\n",
       "  '- Cancel dịch vụ dọn nhà',\n",
       "  '- Tôi muốn hủy đặt lịch',\n",
       "  '- Không cần cleaning service',\n",
       "  '- Tôi không muốn đặt dịch vụ',\n",
       "  '- Thôi tôi tự dọn',\n",
       "  '- Hủy booking dọn nhà',\n",
       "  '- Không thuê người dọn nữa',\n",
       "  '- Tôi chỉ muốn tư vấn thôi',\n",
       "  '- Không cần đặt lịch',\n",
       "  '- Chỉ muốn tư vấn không muốn đặt lịch ',\n",
       "  '- Chỉ muốn tư vấn ',\n",
       "  '- I don’t want to book anymore',\n",
       "  '- Cancel the service booking',\n",
       "  '- No need to book anymore',\n",
       "  '- I won’t make the booking',\n",
       "  '- Cancel booking',\n",
       "  '- I don’t want the service anymore',\n",
       "  '- I changed my mind, I won’t book',\n",
       "  '- Cancel the house cleaning appointment',\n",
       "  '- I don’t need the service anymore',\n",
       "  '- I’m not going to book',\n",
       "  '- I won’t book anymore',\n",
       "  '- Cancel the cleaning service',\n",
       "  '- I want to cancel my booking',\n",
       "  '- No need for cleaning service',\n",
       "  '- I don’t want to book the service',\n",
       "  '- I’ll just clean it myself',\n",
       "  '- Cancel the cleaning booking',\n",
       "  '- I won’t hire a cleaner anymore',\n",
       "  '- I only want consultation',\n",
       "  '- No need to book an appointment',\n",
       "  '- I just want consultation, no booking',\n",
       "  '- Consultation only'],\n",
       " ['# OTHER INTENT - Tất cả các intent khác (pricing, greeting, general questions)',\n",
       "  'other_intent',\n",
       "  '- Chào em',\n",
       "  '- Xin chào',\n",
       "  '- Hello',\n",
       "  '- Hi bạn',\n",
       "  '- Chào buổi sáng',\n",
       "  '- bTaskee là gì',\n",
       "  '- Các dịch vụ của bTaskee',\n",
       "  '- Giờ làm việc như thế nào',\n",
       "  '- Hotline bao nhiêu',\n",
       "  '- Địa chỉ công ty ở đâu',\n",
       "  '- Anh muốn biết giá dọn dẹp nhà',\n",
       "  '- Giá dịch vụ dọn nhà bao nhiều',\n",
       "  '- Tính giá dọn dẹp nhà cho tôi',\n",
       "  '- Chi phí dọn nhà như thế nào',\n",
       "  '- Báo giá dịch vụ cleaning',\n",
       "  '- Giá dọn dẹp nhà ngày cuối tuần',\n",
       "  '- Muốn xem bảng giá dịch vụ',\n",
       "  '- Hỏi giá dọn nhà 3 giờ',\n",
       "  '- Giá cả dịch vụ như thế nào',\n",
       "  '- Tính tiền dọn nhà bao nhiêu',\n",
       "  '- Dịch vụ có những gì',\n",
       "  '- Quy trình dọn nhà ra sao',\n",
       "  '- Nhân viên có chuyên nghiệp không',\n",
       "  '- Thời gian dọn nhà mất bao lâu',\n",
       "  '- Có dọn được ngày lễ không',\n",
       "  '- Khu vực nào được phục vụ',\n",
       "  '- Thanh toán như thế nào',\n",
       "  '- Có bảo hiểm không',\n",
       "  '- Dụng cụ dọn dẹp ai cung cấp',\n",
       "  '- Có dọn được ban đêm không',\n",
       "  '- Không em',\n",
       "  '- Không cần đâu em ',\n",
       "  '- Khỏi em',\n",
       "  'other_intent- À khỏi ',\n",
       "  'other_intent- Không',\n",
       "  'other_intent- không cần thêm',\n",
       "  'other_intent- No',\n",
       "  'other_intent- Not',\n",
       "  'other_intent- No thanks',\n",
       "  '']]"
      ]
     },
     "execution_count": 29,
     "metadata": {},
     "output_type": "execute_result"
    }
   ],
   "source": [
    "with open(doc_url, 'r') as file:\n",
    "    lines = [line.replace('\\n#','#').replace(\":\",\"\").split('\\n') for line in file.read().split('\\n\\n')]\n",
    "lines"
   ]
  },
  {
   "cell_type": "code",
   "execution_count": 5,
   "id": "4b9ad34b",
   "metadata": {},
   "outputs": [],
   "source": [
    "def custom_vectorizer(data: dict) -> list[float]:\n",
    "    embed_payload = {\n",
    "        \"input\": data\n",
    "    }\n",
    "    response = requests.post(f\"{embed_url}\", json=embed_payload)\n",
    "    vector_embeded = response.json()[\"data\"][0][\"embedding\"]\n",
    "    return vector_embeded"
   ]
  },
  {
   "cell_type": "code",
   "execution_count": 8,
   "id": "93484570",
   "metadata": {},
   "outputs": [
    {
     "name": "stderr",
     "output_type": "stream",
     "text": [
      "100%|██████████| 15/15 [00:01<00:00, 12.42it/s]\n",
      "100%|██████████| 8/8 [00:00<00:00, 21.19it/s]\n",
      "100%|██████████| 76/76 [00:04<00:00, 17.62it/s]\n",
      "100%|██████████| 46/46 [00:02<00:00, 18.31it/s]\n",
      "100%|██████████| 42/42 [00:02<00:00, 18.25it/s]\n"
     ]
    }
   ],
   "source": [
    "collection = client.collections.get(\"a\")\n",
    "for intent in lines:\n",
    "    for i in tqdm(range(len(intent))):\n",
    "        main_intent=intent[1]\n",
    "        description_intent = intent[i]\n",
    "        collection.data.insert(  \n",
    "            properties={\n",
    "                \"vectorizer\": \"none\",\n",
    "                \"main_intent\": main_intent,\n",
    "                \"description_intent\": description_intent\n",
    "            },\n",
    "            vector=custom_vectorizer(description_intent)\n",
    "        )"
   ]
  },
  {
   "cell_type": "code",
   "execution_count": 112,
   "id": "3f97d1cd",
   "metadata": {},
   "outputs": [],
   "source": [
    "from weaviate.classes.query import MetadataQuery\n",
    "query = \"không đặt nữa tư vấn cho tôi\"\n",
    "response = client.collections.get(\"Article1\").query.hybrid(\n",
    "    query=query,\n",
    "    alpha=0.7,\n",
    "    vector=custom_vectorizer(query),\n",
    "    limit=20,\n",
    "    include_vector=False,\n",
    "    return_metadata=MetadataQuery(\n",
    "        score=True, \n",
    "        explain_score=True,\n",
    "        distance=True,\n",
    "        last_update_time=True\n",
    "        ),\n",
    ")"
   ]
  },
  {
   "cell_type": "code",
   "execution_count": 113,
   "id": "8742d794",
   "metadata": {},
   "outputs": [
    {
     "name": "stdout",
     "output_type": "stream",
     "text": [
      "{'main_intent': 'booking_service', 'description_intent': 'Không em', 'title': None, 'body': None, 'sub_intent': 'Tất cả các intent khác (pricing, greeting, general questions)'}\n",
      "0.7657371759414673\n",
      "{'main_intent': 'booking_service', 'description_intent': 'other_intent:', 'title': None, 'body': None, 'sub_intent': 'Tất cả các intent khác (pricing, greeting, general questions)'}\n",
      "0.5559930205345154\n",
      "{'main_intent': 'booking_service', 'description_intent': 'Tính giá dọn dẹp nhà cho tôi', 'title': None, 'body': None, 'sub_intent': 'Tất cả các intent khác (pricing, greeting, general questions)'}\n",
      "0.5195099115371704\n",
      "{'main_intent': 'booking_service', 'description_intent': 'Không cần đâu em', 'title': None, 'body': None, 'sub_intent': 'Tất cả các intent khác (pricing, greeting, general questions)'}\n",
      "0.5152219533920288\n",
      "{'main_intent': 'booking_service', 'description_intent': 'Dịch vụ có những gì', 'title': None, 'body': None, 'sub_intent': 'Tất cả các intent khác (pricing, greeting, general questions)'}\n",
      "0.45906978845596313\n",
      "{'main_intent': 'booking_service', 'description_intent': 'Hello', 'title': None, 'body': None, 'sub_intent': 'Tất cả các intent khác (pricing, greeting, general questions)'}\n",
      "0.42345598340034485\n",
      "{'main_intent': 'booking_service', 'description_intent': 'Hotline bao nhiêu', 'title': None, 'body': None, 'sub_intent': 'Tất cả các intent khác (pricing, greeting, general questions)'}\n",
      "0.4077027142047882\n",
      "{'main_intent': 'booking_service', 'description_intent': 'Muốn xem bảng giá dịch vụ', 'title': None, 'sub_intent': 'Tất cả các intent khác (pricing, greeting, general questions)', 'body': None}\n",
      "0.4015273451805115\n",
      "{'main_intent': 'booking_service', 'description_intent': 'Chào em', 'title': None, 'body': None, 'sub_intent': 'Tất cả các intent khác (pricing, greeting, general questions)'}\n",
      "0.3795072138309479\n",
      "{'main_intent': 'booking_service', 'description_intent': 'Báo giá dịch vụ cleaning', 'title': None, 'body': None, 'sub_intent': 'Tất cả các intent khác (pricing, greeting, general questions)'}\n",
      "0.3708716630935669\n",
      "{'main_intent': 'booking_service', 'description_intent': 'Giá cả dịch vụ như thế nào', 'title': None, 'body': None, 'sub_intent': 'Tất cả các intent khác (pricing, greeting, general questions)'}\n",
      "0.35567808151245117\n",
      "{'main_intent': 'booking_service', 'description_intent': 'Hi bạn', 'title': None, 'body': None, 'sub_intent': 'Tất cả các intent khác (pricing, greeting, general questions)'}\n",
      "0.3360483944416046\n",
      "{'main_intent': 'booking_service', 'description_intent': 'Có bảo hiểm không', 'title': None, 'body': None, 'sub_intent': 'Tất cả các intent khác (pricing, greeting, general questions)'}\n",
      "0.31681185960769653\n",
      "{'main_intent': 'booking_service', 'description_intent': 'Khu vực nào được phục vụ', 'title': None, 'body': None, 'sub_intent': 'Tất cả các intent khác (pricing, greeting, general questions)'}\n",
      "0.2971232533454895\n",
      "{'main_intent': 'booking_service', 'description_intent': 'Khỏi em\\nother_intent- À khỏi \\nother_intent- Không\\nother_intent- không cần thêm\\nother_intent- No\\nother_intent- Not\\nother_intent- No thanks', 'title': None, 'body': None, 'sub_intent': 'Tất cả các intent khác (pricing, greeting, general questions)'}\n",
      "0.28720200061798096\n",
      "{'main_intent': 'booking_service', 'description_intent': 'Các dịch vụ của bTaskee', 'title': None, 'body': None, 'sub_intent': 'Tất cả các intent khác (pricing, greeting, general questions)'}\n",
      "0.26476171612739563\n",
      "{'main_intent': 'booking_service', 'description_intent': 'Chi phí dọn nhà như thế nào', 'title': None, 'body': None, 'sub_intent': 'Tất cả các intent khác (pricing, greeting, general questions)'}\n",
      "0.2644224166870117\n",
      "{'main_intent': 'booking_service', 'description_intent': 'Quy trình dọn nhà ra sao', 'title': None, 'body': None, 'sub_intent': 'Tất cả các intent khác (pricing, greeting, general questions)'}\n",
      "0.2514439523220062\n",
      "{'main_intent': 'booking_service', 'description_intent': 'Xin chào', 'title': None, 'body': None, 'sub_intent': 'Tất cả các intent khác (pricing, greeting, general questions)'}\n",
      "0.24023081362247467\n",
      "{'main_intent': 'booking_service', 'description_intent': 'Giờ làm việc như thế nào', 'title': None, 'sub_intent': 'Tất cả các intent khác (pricing, greeting, general questions)', 'body': None}\n",
      "0.23558560013771057\n"
     ]
    }
   ],
   "source": [
    "for o in response.objects:\n",
    "    print(o.properties)\n",
    "    print(o.metadata.score)           # Higher = more confident"
   ]
  },
  {
   "cell_type": "code",
   "execution_count": 93,
   "id": "37b8689d",
   "metadata": {},
   "outputs": [
    {
     "data": {
      "text/plain": [
       "[{'index': 3,\n",
       "  'document': {'text': 'booking_service Không cần đâu em'},\n",
       "  'relevance_score': 0.6516455411911011},\n",
       " {'index': 14,\n",
       "  'document': {'text': 'booking_service Khỏi em\\nother_intent- À khỏi \\nother_intent- Không\\nother_intent- không cần thêm\\nother_intent- No\\nother_intent- Not\\nother_intent- No thanks'},\n",
       "  'relevance_score': 0.6352251172065735},\n",
       " {'index': 0,\n",
       "  'document': {'text': 'booking_service Không em'},\n",
       "  'relevance_score': 0.6336103081703186},\n",
       " {'index': 11,\n",
       "  'document': {'text': 'booking_service Hi bạn'},\n",
       "  'relevance_score': 0.5906387567520142},\n",
       " {'index': 4,\n",
       "  'document': {'text': 'booking_service Dịch vụ có những gì'},\n",
       "  'relevance_score': 0.5883540511131287},\n",
       " {'index': 18,\n",
       "  'document': {'text': 'booking_service Xin chào'},\n",
       "  'relevance_score': 0.5807054042816162},\n",
       " {'index': 8,\n",
       "  'document': {'text': 'booking_service Chào em'},\n",
       "  'relevance_score': 0.5717272162437439},\n",
       " {'index': 12,\n",
       "  'document': {'text': 'booking_service Có bảo hiểm không'},\n",
       "  'relevance_score': 0.568090558052063},\n",
       " {'index': 10,\n",
       "  'document': {'text': 'booking_service Giá cả dịch vụ như thế nào'},\n",
       "  'relevance_score': 0.5653683543205261},\n",
       " {'index': 1,\n",
       "  'document': {'text': 'booking_service other_intent:'},\n",
       "  'relevance_score': 0.5647244453430176}]"
      ]
     },
     "execution_count": 93,
     "metadata": {},
     "output_type": "execute_result"
    }
   ],
   "source": [
    "requests.post(f\"{rerank_url}\", json={\n",
    "    \"query\": query,\n",
    "    \"documents\":[o.properties.get(\"main_intent\")+\" \"+o.properties.get(\"description_intent\") for o in response.objects],\n",
    "    \"top_n\": 10,\n",
    "    \"model\": \"Qwen/Qwen3-Embedding-0.6B\",\n",
    "  }).json().get(\"results\")"
   ]
  },
  {
   "cell_type": "code",
   "execution_count": 100,
   "id": "88853646",
   "metadata": {},
   "outputs": [
    {
     "ename": "WeaviateQueryError",
     "evalue": "Query call with protocol GRPC search failed with message explorer: get class: vectorize params: could not vectorize input for collection Article1 with search-type nearText. Make sure a vectorizer module is configured for this collection.",
     "output_type": "error",
     "traceback": [
      "\u001b[0;31m---------------------------------------------------------------------------\u001b[0m",
      "\u001b[0;31m_InactiveRpcError\u001b[0m                         Traceback (most recent call last)",
      "File \u001b[0;32m~/bTaskee/parallel_models/venv_parallel_models/lib/python3.10/site-packages/weaviate/connect/v4.py:985\u001b[0m, in \u001b[0;36mConnectionSync.grpc_search\u001b[0;34m(self, request)\u001b[0m\n\u001b[1;32m    984\u001b[0m \u001b[38;5;28;01massert\u001b[39;00m \u001b[38;5;28mself\u001b[39m\u001b[38;5;241m.\u001b[39mgrpc_stub \u001b[38;5;129;01mis\u001b[39;00m \u001b[38;5;129;01mnot\u001b[39;00m \u001b[38;5;28;01mNone\u001b[39;00m\n\u001b[0;32m--> 985\u001b[0m res \u001b[38;5;241m=\u001b[39m \u001b[43m_Retry\u001b[49m\u001b[43m(\u001b[49m\u001b[38;5;241;43m4\u001b[39;49m\u001b[43m)\u001b[49m\u001b[38;5;241;43m.\u001b[39;49m\u001b[43mwith_exponential_backoff\u001b[49m\u001b[43m(\u001b[49m\n\u001b[1;32m    986\u001b[0m \u001b[43m    \u001b[49m\u001b[38;5;241;43m0\u001b[39;49m\u001b[43m,\u001b[49m\n\u001b[1;32m    987\u001b[0m \u001b[43m    \u001b[49m\u001b[38;5;124;43mf\u001b[39;49m\u001b[38;5;124;43m\"\u001b[39;49m\u001b[38;5;124;43mSearching in collection \u001b[39;49m\u001b[38;5;132;43;01m{\u001b[39;49;00m\u001b[43mrequest\u001b[49m\u001b[38;5;241;43m.\u001b[39;49m\u001b[43mcollection\u001b[49m\u001b[38;5;132;43;01m}\u001b[39;49;00m\u001b[38;5;124;43m\"\u001b[39;49m\u001b[43m,\u001b[49m\n\u001b[1;32m    988\u001b[0m \u001b[43m    \u001b[49m\u001b[38;5;28;43mself\u001b[39;49m\u001b[38;5;241;43m.\u001b[39;49m\u001b[43mgrpc_stub\u001b[49m\u001b[38;5;241;43m.\u001b[39;49m\u001b[43mSearch\u001b[49m\u001b[43m,\u001b[49m\n\u001b[1;32m    989\u001b[0m \u001b[43m    \u001b[49m\u001b[43mrequest\u001b[49m\u001b[43m,\u001b[49m\n\u001b[1;32m    990\u001b[0m \u001b[43m    \u001b[49m\u001b[43mmetadata\u001b[49m\u001b[38;5;241;43m=\u001b[39;49m\u001b[38;5;28;43mself\u001b[39;49m\u001b[38;5;241;43m.\u001b[39;49m\u001b[43mgrpc_headers\u001b[49m\u001b[43m(\u001b[49m\u001b[43m)\u001b[49m\u001b[43m,\u001b[49m\n\u001b[1;32m    991\u001b[0m \u001b[43m    \u001b[49m\u001b[43mtimeout\u001b[49m\u001b[38;5;241;43m=\u001b[39;49m\u001b[38;5;28;43mself\u001b[39;49m\u001b[38;5;241;43m.\u001b[39;49m\u001b[43mtimeout_config\u001b[49m\u001b[38;5;241;43m.\u001b[39;49m\u001b[43mquery\u001b[49m\u001b[43m,\u001b[49m\n\u001b[1;32m    992\u001b[0m \u001b[43m\u001b[49m\u001b[43m)\u001b[49m\n\u001b[1;32m    993\u001b[0m \u001b[38;5;28;01mreturn\u001b[39;00m cast(search_get_pb2\u001b[38;5;241m.\u001b[39mSearchReply, res)\n",
      "File \u001b[0;32m~/bTaskee/parallel_models/venv_parallel_models/lib/python3.10/site-packages/weaviate/retry.py:54\u001b[0m, in \u001b[0;36m_Retry.with_exponential_backoff\u001b[0;34m(self, count, error, f, *args, **kwargs)\u001b[0m\n\u001b[1;32m     53\u001b[0m \u001b[38;5;28;01mif\u001b[39;00m err\u001b[38;5;241m.\u001b[39mcode() \u001b[38;5;241m!=\u001b[39m StatusCode\u001b[38;5;241m.\u001b[39mUNAVAILABLE:\n\u001b[0;32m---> 54\u001b[0m     \u001b[38;5;28;01mraise\u001b[39;00m e\n\u001b[1;32m     55\u001b[0m logger\u001b[38;5;241m.\u001b[39minfo(\n\u001b[1;32m     56\u001b[0m     \u001b[38;5;124mf\u001b[39m\u001b[38;5;124m\"\u001b[39m\u001b[38;5;132;01m{\u001b[39;00merror\u001b[38;5;132;01m}\u001b[39;00m\u001b[38;5;124m received exception: \u001b[39m\u001b[38;5;132;01m{\u001b[39;00me\u001b[38;5;132;01m}\u001b[39;00m\u001b[38;5;124m. Retrying with exponential backoff in \u001b[39m\u001b[38;5;132;01m{\u001b[39;00m\u001b[38;5;241m2\u001b[39m\u001b[38;5;241m*\u001b[39m\u001b[38;5;241m*\u001b[39mcount\u001b[38;5;132;01m}\u001b[39;00m\u001b[38;5;124m seconds\u001b[39m\u001b[38;5;124m\"\u001b[39m\n\u001b[1;32m     57\u001b[0m )\n",
      "File \u001b[0;32m~/bTaskee/parallel_models/venv_parallel_models/lib/python3.10/site-packages/weaviate/retry.py:50\u001b[0m, in \u001b[0;36m_Retry.with_exponential_backoff\u001b[0;34m(self, count, error, f, *args, **kwargs)\u001b[0m\n\u001b[1;32m     49\u001b[0m \u001b[38;5;28;01mtry\u001b[39;00m:\n\u001b[0;32m---> 50\u001b[0m     \u001b[38;5;28;01mreturn\u001b[39;00m \u001b[43mf\u001b[49m\u001b[43m(\u001b[49m\u001b[38;5;241;43m*\u001b[39;49m\u001b[43margs\u001b[49m\u001b[43m,\u001b[49m\u001b[43m \u001b[49m\u001b[38;5;241;43m*\u001b[39;49m\u001b[38;5;241;43m*\u001b[39;49m\u001b[43mkwargs\u001b[49m\u001b[43m)\u001b[49m\n\u001b[1;32m     51\u001b[0m \u001b[38;5;28;01mexcept\u001b[39;00m RpcError \u001b[38;5;28;01mas\u001b[39;00m e:\n",
      "File \u001b[0;32m~/bTaskee/parallel_models/venv_parallel_models/lib/python3.10/site-packages/grpc/_channel.py:1178\u001b[0m, in \u001b[0;36m_UnaryUnaryMultiCallable.__call__\u001b[0;34m(self, request, timeout, metadata, credentials, wait_for_ready, compression)\u001b[0m\n\u001b[1;32m   1175\u001b[0m state, call \u001b[38;5;241m=\u001b[39m \u001b[38;5;28mself\u001b[39m\u001b[38;5;241m.\u001b[39m_blocking(\n\u001b[1;32m   1176\u001b[0m     request, timeout, metadata, credentials, wait_for_ready, compression\n\u001b[1;32m   1177\u001b[0m )\n\u001b[0;32m-> 1178\u001b[0m \u001b[38;5;28;01mreturn\u001b[39;00m \u001b[43m_end_unary_response_blocking\u001b[49m\u001b[43m(\u001b[49m\u001b[43mstate\u001b[49m\u001b[43m,\u001b[49m\u001b[43m \u001b[49m\u001b[43mcall\u001b[49m\u001b[43m,\u001b[49m\u001b[43m \u001b[49m\u001b[38;5;28;43;01mFalse\u001b[39;49;00m\u001b[43m,\u001b[49m\u001b[43m \u001b[49m\u001b[38;5;28;43;01mNone\u001b[39;49;00m\u001b[43m)\u001b[49m\n",
      "File \u001b[0;32m~/bTaskee/parallel_models/venv_parallel_models/lib/python3.10/site-packages/grpc/_channel.py:1006\u001b[0m, in \u001b[0;36m_end_unary_response_blocking\u001b[0;34m(state, call, with_call, deadline)\u001b[0m\n\u001b[1;32m   1005\u001b[0m \u001b[38;5;28;01melse\u001b[39;00m:\n\u001b[0;32m-> 1006\u001b[0m     \u001b[38;5;28;01mraise\u001b[39;00m _InactiveRpcError(state)\n",
      "\u001b[0;31m_InactiveRpcError\u001b[0m: <_InactiveRpcError of RPC that terminated with:\n\tstatus = StatusCode.UNKNOWN\n\tdetails = \"explorer: get class: vectorize params: could not vectorize input for collection Article1 with search-type nearText. Make sure a vectorizer module is configured for this collection\"\n\tdebug_error_string = \"UNKNOWN:Error received from peer  {grpc_status:2, grpc_message:\"explorer: get class: vectorize params: could not vectorize input for collection Article1 with search-type nearText. Make sure a vectorizer module is configured for this collection\"}\"\n>",
      "\nDuring handling of the above exception, another exception occurred:\n",
      "\u001b[0;31mWeaviateQueryError\u001b[0m                        Traceback (most recent call last)",
      "Cell \u001b[0;32mIn[100], line 1\u001b[0m\n\u001b[0;32m----> 1\u001b[0m AA \u001b[38;5;241m=\u001b[39m \u001b[43mclient\u001b[49m\u001b[38;5;241;43m.\u001b[39;49m\u001b[43mcollections\u001b[49m\u001b[38;5;241;43m.\u001b[39;49m\u001b[43mget\u001b[49m\u001b[43m(\u001b[49m\u001b[38;5;124;43m\"\u001b[39;49m\u001b[38;5;124;43mArticle1\u001b[39;49m\u001b[38;5;124;43m\"\u001b[39;49m\u001b[43m)\u001b[49m\u001b[38;5;241;43m.\u001b[39;49m\u001b[43mquery\u001b[49m\u001b[38;5;241;43m.\u001b[39;49m\u001b[43mnear_text\u001b[49m\u001b[43m(\u001b[49m\n\u001b[1;32m      2\u001b[0m \u001b[43m    \u001b[49m\u001b[38;5;66;43;03m# near_vector=custom_vectorizer(query),\u001b[39;49;00m\n\u001b[1;32m      3\u001b[0m \u001b[43m    \u001b[49m\u001b[43mquery\u001b[49m\u001b[38;5;241;43m=\u001b[39;49m\u001b[43mquery\u001b[49m\u001b[43m,\u001b[49m\n\u001b[1;32m      4\u001b[0m \u001b[43m    \u001b[49m\u001b[43mlimit\u001b[49m\u001b[38;5;241;43m=\u001b[39;49m\u001b[38;5;241;43m10\u001b[39;49m\u001b[43m,\u001b[49m\n\u001b[1;32m      5\u001b[0m \u001b[43m    \u001b[49m\u001b[43minclude_vector\u001b[49m\u001b[38;5;241;43m=\u001b[39;49m\u001b[38;5;28;43;01mFalse\u001b[39;49;00m\u001b[43m,\u001b[49m\n\u001b[1;32m      6\u001b[0m \u001b[43m)\u001b[49m\n",
      "File \u001b[0;32m~/bTaskee/parallel_models/venv_parallel_models/lib/python3.10/site-packages/weaviate/collections/queries/near_text/query/executor.py:424\u001b[0m, in \u001b[0;36m_NearTextQueryExecutor.near_text\u001b[0;34m(self, query, certainty, distance, move_to, move_away, limit, offset, auto_limit, filters, group_by, rerank, target_vector, include_vector, return_metadata, return_properties, return_references)\u001b[0m\n\u001b[1;32m    391\u001b[0m     \u001b[38;5;28;01mreturn\u001b[39;00m cast(\n\u001b[1;32m    392\u001b[0m         Any,\n\u001b[1;32m    393\u001b[0m         \u001b[38;5;28mself\u001b[39m\u001b[38;5;241m.\u001b[39m_result_to_query_or_groupby_return(\n\u001b[0;32m   (...)\u001b[0m\n\u001b[1;32m    404\u001b[0m         ),\n\u001b[1;32m    405\u001b[0m     )\n\u001b[1;32m    407\u001b[0m request \u001b[38;5;241m=\u001b[39m \u001b[38;5;28mself\u001b[39m\u001b[38;5;241m.\u001b[39m_query\u001b[38;5;241m.\u001b[39mnear_text(\n\u001b[1;32m    408\u001b[0m     near_text\u001b[38;5;241m=\u001b[39mquery,\n\u001b[1;32m    409\u001b[0m     certainty\u001b[38;5;241m=\u001b[39mcertainty,\n\u001b[0;32m   (...)\u001b[0m\n\u001b[1;32m    422\u001b[0m     return_references\u001b[38;5;241m=\u001b[39m\u001b[38;5;28mself\u001b[39m\u001b[38;5;241m.\u001b[39m_parse_return_references(return_references),\n\u001b[1;32m    423\u001b[0m )\n\u001b[0;32m--> 424\u001b[0m \u001b[38;5;28;01mreturn\u001b[39;00m \u001b[43mexecutor\u001b[49m\u001b[38;5;241;43m.\u001b[39;49m\u001b[43mexecute\u001b[49m\u001b[43m(\u001b[49m\n\u001b[1;32m    425\u001b[0m \u001b[43m    \u001b[49m\u001b[43mresponse_callback\u001b[49m\u001b[38;5;241;43m=\u001b[39;49m\u001b[43mresp\u001b[49m\u001b[43m,\u001b[49m\n\u001b[1;32m    426\u001b[0m \u001b[43m    \u001b[49m\u001b[43mmethod\u001b[49m\u001b[38;5;241;43m=\u001b[39;49m\u001b[38;5;28;43mself\u001b[39;49m\u001b[38;5;241;43m.\u001b[39;49m\u001b[43m_connection\u001b[49m\u001b[38;5;241;43m.\u001b[39;49m\u001b[43mgrpc_search\u001b[49m\u001b[43m,\u001b[49m\n\u001b[1;32m    427\u001b[0m \u001b[43m    \u001b[49m\u001b[43mrequest\u001b[49m\u001b[38;5;241;43m=\u001b[39;49m\u001b[43mrequest\u001b[49m\u001b[43m,\u001b[49m\n\u001b[1;32m    428\u001b[0m \u001b[43m\u001b[49m\u001b[43m)\u001b[49m\n",
      "File \u001b[0;32m~/bTaskee/parallel_models/venv_parallel_models/lib/python3.10/site-packages/weaviate/connect/executor.py:99\u001b[0m, in \u001b[0;36mexecute\u001b[0;34m(method, response_callback, exception_callback, *args, **kwargs)\u001b[0m\n\u001b[1;32m     97\u001b[0m     \u001b[38;5;28;01mreturn\u001b[39;00m resp_call\n\u001b[1;32m     98\u001b[0m \u001b[38;5;28;01mexcept\u001b[39;00m \u001b[38;5;167;01mException\u001b[39;00m \u001b[38;5;28;01mas\u001b[39;00m e:\n\u001b[0;32m---> 99\u001b[0m     \u001b[38;5;28;01mreturn\u001b[39;00m cast(T, \u001b[43mexception_callback\u001b[49m\u001b[43m(\u001b[49m\u001b[43me\u001b[49m\u001b[43m)\u001b[49m)\n",
      "File \u001b[0;32m~/bTaskee/parallel_models/venv_parallel_models/lib/python3.10/site-packages/weaviate/connect/executor.py:38\u001b[0m, in \u001b[0;36mraise_exception\u001b[0;34m(e)\u001b[0m\n\u001b[1;32m     37\u001b[0m \u001b[38;5;28;01mdef\u001b[39;00m\u001b[38;5;250m \u001b[39m\u001b[38;5;21mraise_exception\u001b[39m(e: \u001b[38;5;167;01mException\u001b[39;00m) \u001b[38;5;241m-\u001b[39m\u001b[38;5;241m>\u001b[39m Any:\n\u001b[0;32m---> 38\u001b[0m     \u001b[38;5;28;01mraise\u001b[39;00m e\n",
      "File \u001b[0;32m~/bTaskee/parallel_models/venv_parallel_models/lib/python3.10/site-packages/weaviate/connect/executor.py:80\u001b[0m, in \u001b[0;36mexecute\u001b[0;34m(method, response_callback, exception_callback, *args, **kwargs)\u001b[0m\n\u001b[1;32m     71\u001b[0m \u001b[38;5;28;01mdef\u001b[39;00m\u001b[38;5;250m \u001b[39m\u001b[38;5;21mexecute\u001b[39m(\n\u001b[1;32m     72\u001b[0m     method: SyncOrAsyncMethod[P, R],\n\u001b[1;32m     73\u001b[0m     response_callback: SyncOrAsyncCallback[R, T, A],\n\u001b[0;32m   (...)\u001b[0m\n\u001b[1;32m     77\u001b[0m ) \u001b[38;5;241m-\u001b[39m\u001b[38;5;241m>\u001b[39m Union[T, Awaitable[T], Awaitable[A]]:\n\u001b[1;32m     78\u001b[0m     \u001b[38;5;66;03m# wrap method call in try-except to catch exceptions for sync method\u001b[39;00m\n\u001b[1;32m     79\u001b[0m     \u001b[38;5;28;01mtry\u001b[39;00m:\n\u001b[0;32m---> 80\u001b[0m         call \u001b[38;5;241m=\u001b[39m \u001b[43mmethod\u001b[49m\u001b[43m(\u001b[49m\u001b[38;5;241;43m*\u001b[39;49m\u001b[43margs\u001b[49m\u001b[43m,\u001b[49m\u001b[43m \u001b[49m\u001b[38;5;241;43m*\u001b[39;49m\u001b[38;5;241;43m*\u001b[39;49m\u001b[43mkwargs\u001b[49m\u001b[43m)\u001b[49m\n\u001b[1;32m     81\u001b[0m         \u001b[38;5;28;01mif\u001b[39;00m \u001b[38;5;28misinstance\u001b[39m(call, Awaitable):\n\u001b[1;32m     83\u001b[0m             \u001b[38;5;28;01masync\u001b[39;00m \u001b[38;5;28;01mdef\u001b[39;00m\u001b[38;5;250m \u001b[39m\u001b[38;5;21m_execute\u001b[39m() \u001b[38;5;241m-\u001b[39m\u001b[38;5;241m>\u001b[39m T:\n\u001b[1;32m     84\u001b[0m                 \u001b[38;5;66;03m# wrap await in try-except to catch exceptions for async method\u001b[39;00m\n",
      "File \u001b[0;32m~/bTaskee/parallel_models/venv_parallel_models/lib/python3.10/site-packages/weaviate/connect/v4.py:998\u001b[0m, in \u001b[0;36mConnectionSync.grpc_search\u001b[0;34m(self, request)\u001b[0m\n\u001b[1;32m    996\u001b[0m     \u001b[38;5;28;01mif\u001b[39;00m error\u001b[38;5;241m.\u001b[39mcode() \u001b[38;5;241m==\u001b[39m StatusCode\u001b[38;5;241m.\u001b[39mPERMISSION_DENIED:\n\u001b[1;32m    997\u001b[0m         \u001b[38;5;28;01mraise\u001b[39;00m InsufficientPermissionsError(error)\n\u001b[0;32m--> 998\u001b[0m     \u001b[38;5;28;01mraise\u001b[39;00m WeaviateQueryError(\u001b[38;5;28mstr\u001b[39m(error\u001b[38;5;241m.\u001b[39mdetails()), \u001b[38;5;124m\"\u001b[39m\u001b[38;5;124mGRPC search\u001b[39m\u001b[38;5;124m\"\u001b[39m)  \u001b[38;5;66;03m# pyright: ignore\u001b[39;00m\n\u001b[1;32m    999\u001b[0m \u001b[38;5;28;01mexcept\u001b[39;00m WeaviateRetryError \u001b[38;5;28;01mas\u001b[39;00m e:\n\u001b[1;32m   1000\u001b[0m     \u001b[38;5;28;01mraise\u001b[39;00m WeaviateQueryError(\u001b[38;5;28mstr\u001b[39m(e), \u001b[38;5;124m\"\u001b[39m\u001b[38;5;124mGRPC search\u001b[39m\u001b[38;5;124m\"\u001b[39m)\n",
      "\u001b[0;31mWeaviateQueryError\u001b[0m: Query call with protocol GRPC search failed with message explorer: get class: vectorize params: could not vectorize input for collection Article1 with search-type nearText. Make sure a vectorizer module is configured for this collection."
     ]
    }
   ],
   "source": [
    "AA = client.collections.get(\"Article1\").query.near_text(\n",
    "    # near_vector=custom_vectorizer(query),\n",
    "    query=query,\n",
    "    limit=10,\n",
    "    include_vector=False,\n",
    ")"
   ]
  },
  {
   "cell_type": "code",
   "execution_count": 97,
   "id": "dccbc09e",
   "metadata": {},
   "outputs": [
    {
     "data": {
      "text/plain": [
       "[GenerativeObject(uuid=_WeaviateUUIDInt('3f7eb9a3-d264-4bf3-ac20-09a21aff3116'), metadata=MetadataReturn(creation_time=None, last_update_time=None, distance=None, certainty=None, score=None, explain_score=None, is_consistent=None, rerank_score=None), properties={'main_intent': 'booking_service', 'description_intent': 'Không em', 'title': None, 'body': None, 'sub_intent': 'Tất cả các intent khác (pricing, greeting, general questions)'}, references=None, vector={}, collection='Article1'),\n",
       " GenerativeObject(uuid=_WeaviateUUIDInt('bd661d47-1d97-481a-8bac-524885d86f8f'), metadata=MetadataReturn(creation_time=None, last_update_time=None, distance=None, certainty=None, score=None, explain_score=None, is_consistent=None, rerank_score=None), properties={'main_intent': 'booking_service', 'description_intent': 'other_intent:', 'title': None, 'body': None, 'sub_intent': 'Tất cả các intent khác (pricing, greeting, general questions)'}, references=None, vector={}, collection='Article1'),\n",
       " GenerativeObject(uuid=_WeaviateUUIDInt('d29767c4-5d31-4e0d-91aa-8a243996bd69'), metadata=MetadataReturn(creation_time=None, last_update_time=None, distance=None, certainty=None, score=None, explain_score=None, is_consistent=None, rerank_score=None), properties={'main_intent': 'booking_service', 'description_intent': 'Không cần đâu em', 'title': None, 'body': None, 'sub_intent': 'Tất cả các intent khác (pricing, greeting, general questions)'}, references=None, vector={}, collection='Article1'),\n",
       " GenerativeObject(uuid=_WeaviateUUIDInt('1e22dd17-d096-4004-8f6c-02c0be5144d9'), metadata=MetadataReturn(creation_time=None, last_update_time=None, distance=None, certainty=None, score=None, explain_score=None, is_consistent=None, rerank_score=None), properties={'main_intent': 'booking_service', 'description_intent': 'Dịch vụ có những gì', 'title': None, 'body': None, 'sub_intent': 'Tất cả các intent khác (pricing, greeting, general questions)'}, references=None, vector={}, collection='Article1'),\n",
       " GenerativeObject(uuid=_WeaviateUUIDInt('d5e45dec-d2c6-4086-b37a-8481e5e05c70'), metadata=MetadataReturn(creation_time=None, last_update_time=None, distance=None, certainty=None, score=None, explain_score=None, is_consistent=None, rerank_score=None), properties={'main_intent': 'booking_service', 'description_intent': 'Hello', 'title': None, 'sub_intent': 'Tất cả các intent khác (pricing, greeting, general questions)', 'body': None}, references=None, vector={}, collection='Article1'),\n",
       " GenerativeObject(uuid=_WeaviateUUIDInt('00a35b27-8107-4b39-a27c-d3612b1cb3d6'), metadata=MetadataReturn(creation_time=None, last_update_time=None, distance=None, certainty=None, score=None, explain_score=None, is_consistent=None, rerank_score=None), properties={'main_intent': 'booking_service', 'description_intent': 'Hotline bao nhiêu', 'title': None, 'body': None, 'sub_intent': 'Tất cả các intent khác (pricing, greeting, general questions)'}, references=None, vector={}, collection='Article1'),\n",
       " GenerativeObject(uuid=_WeaviateUUIDInt('b9183243-513c-432a-8781-5ab2f3fccd8d'), metadata=MetadataReturn(creation_time=None, last_update_time=None, distance=None, certainty=None, score=None, explain_score=None, is_consistent=None, rerank_score=None), properties={'main_intent': 'booking_service', 'description_intent': 'Muốn xem bảng giá dịch vụ', 'title': None, 'body': None, 'sub_intent': 'Tất cả các intent khác (pricing, greeting, general questions)'}, references=None, vector={}, collection='Article1'),\n",
       " GenerativeObject(uuid=_WeaviateUUIDInt('b6a165a4-16c3-4746-80e0-a38d1d47f44f'), metadata=MetadataReturn(creation_time=None, last_update_time=None, distance=None, certainty=None, score=None, explain_score=None, is_consistent=None, rerank_score=None), properties={'main_intent': 'booking_service', 'description_intent': 'Chào em', 'title': None, 'body': None, 'sub_intent': 'Tất cả các intent khác (pricing, greeting, general questions)'}, references=None, vector={}, collection='Article1'),\n",
       " GenerativeObject(uuid=_WeaviateUUIDInt('9e568895-81ee-4436-ab94-94e795fbad70'), metadata=MetadataReturn(creation_time=None, last_update_time=None, distance=None, certainty=None, score=None, explain_score=None, is_consistent=None, rerank_score=None), properties={'main_intent': 'booking_service', 'description_intent': 'Báo giá dịch vụ cleaning', 'title': None, 'body': None, 'sub_intent': 'Tất cả các intent khác (pricing, greeting, general questions)'}, references=None, vector={}, collection='Article1'),\n",
       " GenerativeObject(uuid=_WeaviateUUIDInt('6b385351-a7e5-4535-bb19-918fc3a25b6f'), metadata=MetadataReturn(creation_time=None, last_update_time=None, distance=None, certainty=None, score=None, explain_score=None, is_consistent=None, rerank_score=None), properties={'main_intent': 'booking_service', 'description_intent': 'Giá cả dịch vụ như thế nào', 'title': None, 'sub_intent': 'Tất cả các intent khác (pricing, greeting, general questions)', 'body': None}, references=None, vector={}, collection='Article1')]"
      ]
     },
     "execution_count": 97,
     "metadata": {},
     "output_type": "execute_result"
    }
   ],
   "source": [
    "AA.objects"
   ]
  },
  {
   "cell_type": "code",
   "execution_count": 81,
   "id": "ff65fc26",
   "metadata": {},
   "outputs": [
    {
     "name": "stderr",
     "output_type": "stream",
     "text": [
      "Ingesting data: 100%|██████████| 34/34 [00:01<00:00, 19.36it/s]"
     ]
    },
    {
     "name": "stdout",
     "output_type": "stream",
     "text": [
      "Hoàn tất quá trình nhập dữ liệu.\n"
     ]
    },
    {
     "name": "stderr",
     "output_type": "stream",
     "text": [
      "\n"
     ]
    }
   ],
   "source": [
    "import requests\n",
    "from tqdm import tqdm\n",
    "import re\n",
    "from weaviate import Client # Ví dụ với thư viện Weaviate, bạn có thể thay thế bằng thư viện của Vector DB bạn dùng.\n",
    "\n",
    "# Giả định:\n",
    "# client = Client(...)\n",
    "# collection = client.collections.get(\"a\")\n",
    "\n",
    "doc_url = './intent_RAG-update.txt' # Tên file dữ liệu của bạn\n",
    "def custom_vectorizer(text: str) -> list[float]:\n",
    "    \"\"\"Hàm gọi API để lấy embedding cho một đoạn văn bản\"\"\"\n",
    "    embed_payload = {\n",
    "        \"input\": text\n",
    "    }\n",
    "    try:\n",
    "        response = requests.post(f\"{embed_url}\", json=embed_payload)\n",
    "        response.raise_for_status() # Kiểm tra lỗi HTTP\n",
    "        return response.json()[\"data\"][0][\"embedding\"]\n",
    "    except Exception as e:\n",
    "        print(f\"Lỗi khi vector hóa: {e}\")\n",
    "        return None\n",
    "\n",
    "# Mở file và xử lý dữ liệu một cách cẩn thận\n",
    "with open(doc_url, 'r', encoding='utf-8') as file:\n",
    "    content = file.read()\n",
    "\n",
    "# Phân tách file thành các khối dựa trên tiêu đề ý định\n",
    "intent_blocks = re.split(r'#\\s*([A-Z_]+\\s*INTENT.*)', content)[1:]\n",
    "\n",
    "data_to_ingest = []\n",
    "for i in range(0, len(intent_blocks), 2):\n",
    "    header = intent_blocks[i].strip()\n",
    "    block_content = intent_blocks[i+1].strip()\n",
    "\n",
    "    # Tách lấy main_intent và sub_intent từ header\n",
    "    match = re.search(r'INTENT\\s*-\\s*(.*)', header)\n",
    "    if match:\n",
    "        main_intent = \"booking_service\" # Bạn có thể trích xuất thông minh hơn nếu cần\n",
    "        sub_intent = match.group(1).strip()\n",
    "    else:\n",
    "        continue\n",
    "\n",
    "    # Tách nội dung thành từng câu riêng lẻ\n",
    "    phrases = [line.strip() for line in block_content.split('\\n- ') if line.strip() and not line.strip().startswith('booking_service:')]\n",
    "\n",
    "    for phrase in phrases:\n",
    "        data_to_ingest.append({\n",
    "            \"text\": phrase,\n",
    "            \"main_intent\": main_intent,\n",
    "            \"sub_intent\": sub_intent\n",
    "        })\n",
    "\n",
    "# Bây giờ, vector hóa và chèn từng câu một vào database\n",
    "for item in tqdm(data_to_ingest, desc=\"Ingesting data\"):\n",
    "    vector = custom_vectorizer(item[\"text\"])\n",
    "    if vector:\n",
    "        collection = client.collections.get(\"Article1\")\n",
    "        collection.data.insert(\n",
    "            properties={\n",
    "                \"main_intent\": item[\"main_intent\"],\n",
    "                \"sub_intent\": item[\"sub_intent\"],\n",
    "                \"description_intent\": item[\"text\"]\n",
    "            },\n",
    "            vector=vector\n",
    "        )\n",
    "\n",
    "print(\"Hoàn tất quá trình nhập dữ liệu.\")"
   ]
  },
  {
   "cell_type": "code",
   "execution_count": 35,
   "id": "cdfe9000",
   "metadata": {},
   "outputs": [
    {
     "data": {
      "text/plain": [
       "'A'"
      ]
     },
     "execution_count": 35,
     "metadata": {},
     "output_type": "execute_result"
    }
   ],
   "source": [
    "collection.name"
   ]
  },
  {
   "cell_type": "code",
   "execution_count": null,
   "id": "8a048da5",
   "metadata": {},
   "outputs": [
    {
     "data": {
      "text/plain": [
       "<weaviate.collections.collection.sync.Collection at 0x1251237f0>"
      ]
     },
     "execution_count": 80,
     "metadata": {},
     "output_type": "execute_result"
    }
   ],
   "source": [
    "from weaviate.classes.config import Configure, Property, DataType, VectorDistances\n",
    "\n",
    "client.collections.create(\n",
    "    \"Article1\",\n",
    "    vector_config=[\n",
    "        Configure.Vectors.self_provided(\n",
    "            name=\"custom_vector\",\n",
    "            vector_index_config=Configure.VectorIndex.hnsw(\n",
    "                distance_metric=VectorDistances.COSINE\n",
    "            ),\n",
    "            \n",
    "        ),\n",
    "    ],\n",
    "    properties=[ \n",
    "        Property(name=\"title\", data_type=DataType.TEXT),\n",
    "        Property(name=\"body\", data_type=DataType.TEXT),\n",
    "    ],\n",
    ")"
   ]
  },
  {
   "cell_type": "code",
   "execution_count": 101,
   "id": "c143414c",
   "metadata": {},
   "outputs": [
    {
     "data": {
      "text/plain": [
       "[Object(uuid=_WeaviateUUIDInt('3f7eb9a3-d264-4bf3-ac20-09a21aff3116'), metadata=MetadataReturn(creation_time=None, last_update_time=datetime.datetime(2025, 8, 22, 3, 46, 15, 772000, tzinfo=datetime.timezone.utc), distance=None, certainty=None, score=0.7657371759414673, explain_score='\\nHybrid (Result Set keyword,bm25) Document 3f7eb9a3-d264-4bf3-ac20-09a21aff3116: original score 0.8293658, normalized score: 0.0657372 - \\nHybrid (Result Set vector,hybridVector) Document 3f7eb9a3-d264-4bf3-ac20-09a21aff3116: original score -20.048994, normalized score: 0.7', is_consistent=None, rerank_score=None), properties={'main_intent': 'booking_service', 'description_intent': 'Không em', 'title': None, 'body': None, 'sub_intent': 'Tất cả các intent khác (pricing, greeting, general questions)'}, references=None, vector={}, collection='Article1'),\n",
       " Object(uuid=_WeaviateUUIDInt('bd661d47-1d97-481a-8bac-524885d86f8f'), metadata=MetadataReturn(creation_time=None, last_update_time=datetime.datetime(2025, 8, 22, 3, 46, 14, 250000, tzinfo=datetime.timezone.utc), distance=None, certainty=None, score=0.5559930205345154, explain_score='\\nHybrid (Result Set vector,hybridVector) Document bd661d47-1d97-481a-8bac-524885d86f8f: original score -21.902718, normalized score: 0.555993', is_consistent=None, rerank_score=None), properties={'main_intent': 'booking_service', 'description_intent': 'other_intent:', 'title': None, 'body': None, 'sub_intent': 'Tất cả các intent khác (pricing, greeting, general questions)'}, references=None, vector={}, collection='Article1'),\n",
       " Object(uuid=_WeaviateUUIDInt('cdb76fa2-db52-42d6-910e-0f6e3d8260e0'), metadata=MetadataReturn(creation_time=None, last_update_time=datetime.datetime(2025, 8, 22, 3, 46, 14, 883000, tzinfo=datetime.timezone.utc), distance=None, certainty=None, score=0.5195099115371704, explain_score='\\nHybrid (Result Set keyword,bm25) Document cdb76fa2-db52-42d6-910e-0f6e3d8260e0: original score 1.9379007, normalized score: 0.3 - \\nHybrid (Result Set vector,hybridVector) Document cdb76fa2-db52-42d6-910e-0f6e3d8260e0: original score -26.234083, normalized score: 0.21950988', is_consistent=None, rerank_score=None), properties={'main_intent': 'booking_service', 'description_intent': 'Tính giá dọn dẹp nhà cho tôi', 'title': None, 'sub_intent': 'Tất cả các intent khác (pricing, greeting, general questions)', 'body': None}, references=None, vector={}, collection='Article1'),\n",
       " Object(uuid=_WeaviateUUIDInt('d29767c4-5d31-4e0d-91aa-8a243996bd69'), metadata=MetadataReturn(creation_time=None, last_update_time=datetime.datetime(2025, 8, 22, 3, 46, 15, 829000, tzinfo=datetime.timezone.utc), distance=None, certainty=None, score=0.5152219533920288, explain_score='\\nHybrid (Result Set keyword,bm25) Document d29767c4-5d31-4e0d-91aa-8a243996bd69: original score 0.6379304, normalized score: 0.025281828 - \\nHybrid (Result Set vector,hybridVector) Document d29767c4-5d31-4e0d-91aa-8a243996bd69: original score -22.752981, normalized score: 0.4899401', is_consistent=None, rerank_score=None), properties={'main_intent': 'booking_service', 'description_intent': 'Không cần đâu em', 'title': None, 'body': None, 'sub_intent': 'Tất cả các intent khác (pricing, greeting, general questions)'}, references=None, vector={}, collection='Article1'),\n",
       " Object(uuid=_WeaviateUUIDInt('1e22dd17-d096-4004-8f6c-02c0be5144d9'), metadata=MetadataReturn(creation_time=None, last_update_time=datetime.datetime(2025, 8, 22, 3, 46, 15, 263000, tzinfo=datetime.timezone.utc), distance=None, certainty=None, score=0.45906978845596313, explain_score='\\nHybrid (Result Set vector,hybridVector) Document 1e22dd17-d096-4004-8f6c-02c0be5144d9: original score -23.150358, normalized score: 0.4590698', is_consistent=None, rerank_score=None), properties={'main_intent': 'booking_service', 'description_intent': 'Dịch vụ có những gì', 'title': None, 'body': None, 'sub_intent': 'Tất cả các intent khác (pricing, greeting, general questions)'}, references=None, vector={}, collection='Article1'),\n",
       " Object(uuid=_WeaviateUUIDInt('d5e45dec-d2c6-4086-b37a-8481e5e05c70'), metadata=MetadataReturn(creation_time=None, last_update_time=datetime.datetime(2025, 8, 22, 3, 46, 14, 403000, tzinfo=datetime.timezone.utc), distance=None, certainty=None, score=0.42345598340034485, explain_score='\\nHybrid (Result Set vector,hybridVector) Document d5e45dec-d2c6-4086-b37a-8481e5e05c70: original score -23.608795, normalized score: 0.42345598', is_consistent=None, rerank_score=None), properties={'main_intent': 'booking_service', 'description_intent': 'Hello', 'title': None, 'body': None, 'sub_intent': 'Tất cả các intent khác (pricing, greeting, general questions)'}, references=None, vector={}, collection='Article1'),\n",
       " Object(uuid=_WeaviateUUIDInt('00a35b27-8107-4b39-a27c-d3612b1cb3d6'), metadata=MetadataReturn(creation_time=None, last_update_time=datetime.datetime(2025, 8, 22, 3, 46, 14, 686000, tzinfo=datetime.timezone.utc), distance=None, certainty=None, score=0.4077027142047882, explain_score='\\nHybrid (Result Set vector,hybridVector) Document 00a35b27-8107-4b39-a27c-d3612b1cb3d6: original score -23.811579, normalized score: 0.4077027', is_consistent=None, rerank_score=None), properties={'main_intent': 'booking_service', 'description_intent': 'Hotline bao nhiêu', 'title': None, 'body': None, 'sub_intent': 'Tất cả các intent khác (pricing, greeting, general questions)'}, references=None, vector={}, collection='Article1'),\n",
       " Object(uuid=_WeaviateUUIDInt('b9183243-513c-432a-8781-5ab2f3fccd8d'), metadata=MetadataReturn(creation_time=None, last_update_time=datetime.datetime(2025, 8, 22, 3, 46, 15, 79000, tzinfo=datetime.timezone.utc), distance=None, certainty=None, score=0.4015273451805115, explain_score='\\nHybrid (Result Set vector,hybridVector) Document b9183243-513c-432a-8781-5ab2f3fccd8d: original score -23.891071, normalized score: 0.40152735', is_consistent=None, rerank_score=None), properties={'main_intent': 'booking_service', 'description_intent': 'Muốn xem bảng giá dịch vụ', 'title': None, 'body': None, 'sub_intent': 'Tất cả các intent khác (pricing, greeting, general questions)'}, references=None, vector={}, collection='Article1'),\n",
       " Object(uuid=_WeaviateUUIDInt('b6a165a4-16c3-4746-80e0-a38d1d47f44f'), metadata=MetadataReturn(creation_time=None, last_update_time=datetime.datetime(2025, 8, 22, 3, 46, 14, 303000, tzinfo=datetime.timezone.utc), distance=None, certainty=None, score=0.3795072138309479, explain_score='\\nHybrid (Result Set vector,hybridVector) Document b6a165a4-16c3-4746-80e0-a38d1d47f44f: original score -24.174524, normalized score: 0.3795072', is_consistent=None, rerank_score=None), properties={'main_intent': 'booking_service', 'description_intent': 'Chào em', 'title': None, 'body': None, 'sub_intent': 'Tất cả các intent khác (pricing, greeting, general questions)'}, references=None, vector={}, collection='Article1'),\n",
       " Object(uuid=_WeaviateUUIDInt('9e568895-81ee-4436-ab94-94e795fbad70'), metadata=MetadataReturn(creation_time=None, last_update_time=datetime.datetime(2025, 8, 22, 3, 46, 14, 979000, tzinfo=datetime.timezone.utc), distance=None, certainty=None, score=0.3708716630935669, explain_score='\\nHybrid (Result Set vector,hybridVector) Document 9e568895-81ee-4436-ab94-94e795fbad70: original score -24.285685, normalized score: 0.37087166', is_consistent=None, rerank_score=None), properties={'main_intent': 'booking_service', 'description_intent': 'Báo giá dịch vụ cleaning', 'title': None, 'body': None, 'sub_intent': 'Tất cả các intent khác (pricing, greeting, general questions)'}, references=None, vector={}, collection='Article1'),\n",
       " Object(uuid=_WeaviateUUIDInt('6b385351-a7e5-4535-bb19-918fc3a25b6f'), metadata=MetadataReturn(creation_time=None, last_update_time=datetime.datetime(2025, 8, 22, 3, 46, 15, 173000, tzinfo=datetime.timezone.utc), distance=None, certainty=None, score=0.35567808151245117, explain_score='\\nHybrid (Result Set vector,hybridVector) Document 6b385351-a7e5-4535-bb19-918fc3a25b6f: original score -24.481264, normalized score: 0.35567808', is_consistent=None, rerank_score=None), properties={'main_intent': 'booking_service', 'description_intent': 'Giá cả dịch vụ như thế nào', 'title': None, 'body': None, 'sub_intent': 'Tất cả các intent khác (pricing, greeting, general questions)'}, references=None, vector={}, collection='Article1'),\n",
       " Object(uuid=_WeaviateUUIDInt('960a8cc5-5568-4247-a3b5-3ea80be371b4'), metadata=MetadataReturn(creation_time=None, last_update_time=datetime.datetime(2025, 8, 22, 3, 46, 14, 451000, tzinfo=datetime.timezone.utc), distance=None, certainty=None, score=0.3360483944416046, explain_score='\\nHybrid (Result Set vector,hybridVector) Document 960a8cc5-5568-4247-a3b5-3ea80be371b4: original score -24.733946, normalized score: 0.3360484', is_consistent=None, rerank_score=None), properties={'main_intent': 'booking_service', 'description_intent': 'Hi bạn', 'title': None, 'body': None, 'sub_intent': 'Tất cả các intent khác (pricing, greeting, general questions)'}, references=None, vector={}, collection='Article1'),\n",
       " Object(uuid=_WeaviateUUIDInt('c702f59d-1d3f-47d1-8ba4-f2c01021a933'), metadata=MetadataReturn(creation_time=None, last_update_time=datetime.datetime(2025, 8, 22, 3, 46, 15, 615000, tzinfo=datetime.timezone.utc), distance=None, certainty=None, score=0.31681185960769653, explain_score='\\nHybrid (Result Set keyword,bm25) Document c702f59d-1d3f-47d1-8ba4-f2c01021a933: original score 0.6379304, normalized score: 0.025281828 - \\nHybrid (Result Set vector,hybridVector) Document c702f59d-1d3f-47d1-8ba4-f2c01021a933: original score -25.307007, normalized score: 0.29153004', is_consistent=None, rerank_score=None), properties={'main_intent': 'booking_service', 'description_intent': 'Có bảo hiểm không', 'title': None, 'sub_intent': 'Tất cả các intent khác (pricing, greeting, general questions)', 'body': None}, references=None, vector={}, collection='Article1'),\n",
       " Object(uuid=_WeaviateUUIDInt('0b1826af-9fbf-4f6f-a000-998f9e2a9476'), metadata=MetadataReturn(creation_time=None, last_update_time=datetime.datetime(2025, 8, 22, 3, 46, 15, 523000, tzinfo=datetime.timezone.utc), distance=None, certainty=None, score=0.2971232533454895, explain_score='\\nHybrid (Result Set vector,hybridVector) Document 0b1826af-9fbf-4f6f-a000-998f9e2a9476: original score -25.235008, normalized score: 0.29712325', is_consistent=None, rerank_score=None), properties={'main_intent': 'booking_service', 'description_intent': 'Khu vực nào được phục vụ', 'title': None, 'body': None, 'sub_intent': 'Tất cả các intent khác (pricing, greeting, general questions)'}, references=None, vector={}, collection='Article1'),\n",
       " Object(uuid=_WeaviateUUIDInt('438b6924-4558-4c7f-878d-16999a0352c1'), metadata=MetadataReturn(creation_time=None, last_update_time=datetime.datetime(2025, 8, 22, 3, 46, 15, 892000, tzinfo=datetime.timezone.utc), distance=None, certainty=None, score=0.28720200061798096, explain_score='\\nHybrid (Result Set keyword,bm25) Document 438b6924-4558-4c7f-878d-16999a0352c1: original score 0.5741958, normalized score: 0.011813021 - \\nHybrid (Result Set vector,hybridVector) Document 438b6924-4558-4c7f-878d-16999a0352c1: original score -25.514782, normalized score: 0.275389', is_consistent=None, rerank_score=None), properties={'main_intent': 'booking_service', 'description_intent': 'Khỏi em\\nother_intent- À khỏi \\nother_intent- Không\\nother_intent- không cần thêm\\nother_intent- No\\nother_intent- Not\\nother_intent- No thanks', 'title': None, 'sub_intent': 'Tất cả các intent khác (pricing, greeting, general questions)', 'body': None}, references=None, vector={}, collection='Article1'),\n",
       " Object(uuid=_WeaviateUUIDInt('3670a35f-3ede-4e20-a31d-53be9b60ce73'), metadata=MetadataReturn(creation_time=None, last_update_time=datetime.datetime(2025, 8, 22, 3, 46, 14, 590000, tzinfo=datetime.timezone.utc), distance=None, certainty=None, score=0.26476171612739563, explain_score='\\nHybrid (Result Set vector,hybridVector) Document 3670a35f-3ede-4e20-a31d-53be9b60ce73: original score -25.65158, normalized score: 0.26476172', is_consistent=None, rerank_score=None), properties={'main_intent': 'booking_service', 'description_intent': 'Các dịch vụ của bTaskee', 'title': None, 'body': None, 'sub_intent': 'Tất cả các intent khác (pricing, greeting, general questions)'}, references=None, vector={}, collection='Article1'),\n",
       " Object(uuid=_WeaviateUUIDInt('be91a634-8fc3-4626-9caa-729388f3bf65'), metadata=MetadataReturn(creation_time=None, last_update_time=datetime.datetime(2025, 8, 22, 3, 46, 14, 931000, tzinfo=datetime.timezone.utc), distance=None, certainty=None, score=0.2644224166870117, explain_score='\\nHybrid (Result Set vector,hybridVector) Document be91a634-8fc3-4626-9caa-729388f3bf65: original score -25.655949, normalized score: 0.26442242', is_consistent=None, rerank_score=None), properties={'main_intent': 'booking_service', 'description_intent': 'Chi phí dọn nhà như thế nào', 'title': None, 'body': None, 'sub_intent': 'Tất cả các intent khác (pricing, greeting, general questions)'}, references=None, vector={}, collection='Article1'),\n",
       " Object(uuid=_WeaviateUUIDInt('1ea4a72d-8814-4f0e-a735-3138a2660af8'), metadata=MetadataReturn(creation_time=None, last_update_time=datetime.datetime(2025, 8, 22, 3, 46, 15, 320000, tzinfo=datetime.timezone.utc), distance=None, certainty=None, score=0.2514439523220062, explain_score='\\nHybrid (Result Set vector,hybridVector) Document 1ea4a72d-8814-4f0e-a735-3138a2660af8: original score -25.823013, normalized score: 0.25144395', is_consistent=None, rerank_score=None), properties={'main_intent': 'booking_service', 'description_intent': 'Quy trình dọn nhà ra sao', 'title': None, 'sub_intent': 'Tất cả các intent khác (pricing, greeting, general questions)', 'body': None}, references=None, vector={}, collection='Article1'),\n",
       " Object(uuid=_WeaviateUUIDInt('d2107173-c723-4d0a-9958-ba79e25e45e5'), metadata=MetadataReturn(creation_time=None, last_update_time=datetime.datetime(2025, 8, 22, 3, 46, 14, 352000, tzinfo=datetime.timezone.utc), distance=None, certainty=None, score=0.24023081362247467, explain_score='\\nHybrid (Result Set vector,hybridVector) Document d2107173-c723-4d0a-9958-ba79e25e45e5: original score -25.967354, normalized score: 0.24023081', is_consistent=None, rerank_score=None), properties={'main_intent': 'booking_service', 'description_intent': 'Xin chào', 'title': None, 'sub_intent': 'Tất cả các intent khác (pricing, greeting, general questions)', 'body': None}, references=None, vector={}, collection='Article1'),\n",
       " Object(uuid=_WeaviateUUIDInt('af015e53-8e88-4a3e-96ba-1f89699ad8f0'), metadata=MetadataReturn(creation_time=None, last_update_time=datetime.datetime(2025, 8, 22, 3, 46, 14, 636000, tzinfo=datetime.timezone.utc), distance=None, certainty=None, score=0.23558560013771057, explain_score='\\nHybrid (Result Set vector,hybridVector) Document af015e53-8e88-4a3e-96ba-1f89699ad8f0: original score -26.02715, normalized score: 0.2355856', is_consistent=None, rerank_score=None), properties={'main_intent': 'booking_service', 'description_intent': 'Giờ làm việc như thế nào', 'title': None, 'sub_intent': 'Tất cả các intent khác (pricing, greeting, general questions)', 'body': None}, references=None, vector={}, collection='Article1')]"
      ]
     },
     "execution_count": 101,
     "metadata": {},
     "output_type": "execute_result"
    }
   ],
   "source": [
    "response.objects"
   ]
  },
  {
   "cell_type": "code",
   "execution_count": 103,
   "id": "b0e51c61",
   "metadata": {},
   "outputs": [
    {
     "data": {
      "text/plain": [
       "True"
      ]
     },
     "execution_count": 103,
     "metadata": {},
     "output_type": "execute_result"
    }
   ],
   "source": [
    "client.collections.exists(\"Article1\")"
   ]
  },
  {
   "cell_type": "code",
   "execution_count": 109,
   "id": "3810a43e",
   "metadata": {},
   "outputs": [
    {
     "name": "stdout",
     "output_type": "stream",
     "text": [
      "DeleteManyReturn(failed=0, matches=34, objects=[DeleteManyObject(uuid=_WeaviateUUIDInt('bd661d47-1d97-481a-8bac-524885d86f8f'), successful=True, error=None), DeleteManyObject(uuid=_WeaviateUUIDInt('b6a165a4-16c3-4746-80e0-a38d1d47f44f'), successful=True, error=None), DeleteManyObject(uuid=_WeaviateUUIDInt('d2107173-c723-4d0a-9958-ba79e25e45e5'), successful=True, error=None), DeleteManyObject(uuid=_WeaviateUUIDInt('d5e45dec-d2c6-4086-b37a-8481e5e05c70'), successful=True, error=None), DeleteManyObject(uuid=_WeaviateUUIDInt('960a8cc5-5568-4247-a3b5-3ea80be371b4'), successful=True, error=None), DeleteManyObject(uuid=_WeaviateUUIDInt('4acc165d-09a3-4daa-bf21-d62ce2fed39e'), successful=True, error=None), DeleteManyObject(uuid=_WeaviateUUIDInt('1d66cc6d-4161-486a-8ed3-4431b988120f'), successful=True, error=None), DeleteManyObject(uuid=_WeaviateUUIDInt('3670a35f-3ede-4e20-a31d-53be9b60ce73'), successful=True, error=None), DeleteManyObject(uuid=_WeaviateUUIDInt('af015e53-8e88-4a3e-96ba-1f89699ad8f0'), successful=True, error=None), DeleteManyObject(uuid=_WeaviateUUIDInt('00a35b27-8107-4b39-a27c-d3612b1cb3d6'), successful=True, error=None), DeleteManyObject(uuid=_WeaviateUUIDInt('c717c39d-5acc-4fb0-8b86-d61055a3dbdf'), successful=True, error=None), DeleteManyObject(uuid=_WeaviateUUIDInt('5fb21211-c88d-49af-85ef-76cf183fa486'), successful=True, error=None), DeleteManyObject(uuid=_WeaviateUUIDInt('067d327d-40f1-4fe0-ae42-ecb6e3d5ed47'), successful=True, error=None), DeleteManyObject(uuid=_WeaviateUUIDInt('cdb76fa2-db52-42d6-910e-0f6e3d8260e0'), successful=True, error=None), DeleteManyObject(uuid=_WeaviateUUIDInt('be91a634-8fc3-4626-9caa-729388f3bf65'), successful=True, error=None), DeleteManyObject(uuid=_WeaviateUUIDInt('9e568895-81ee-4436-ab94-94e795fbad70'), successful=True, error=None), DeleteManyObject(uuid=_WeaviateUUIDInt('78994b98-cb8a-41e8-8e90-07f0cec28945'), successful=True, error=None), DeleteManyObject(uuid=_WeaviateUUIDInt('b9183243-513c-432a-8781-5ab2f3fccd8d'), successful=True, error=None), DeleteManyObject(uuid=_WeaviateUUIDInt('86c59eff-9925-4e1e-b50e-44aa930d5405'), successful=True, error=None), DeleteManyObject(uuid=_WeaviateUUIDInt('6b385351-a7e5-4535-bb19-918fc3a25b6f'), successful=True, error=None), DeleteManyObject(uuid=_WeaviateUUIDInt('ae1e35ed-71a4-4c86-82e0-5456af96b72c'), successful=True, error=None), DeleteManyObject(uuid=_WeaviateUUIDInt('1e22dd17-d096-4004-8f6c-02c0be5144d9'), successful=True, error=None), DeleteManyObject(uuid=_WeaviateUUIDInt('1ea4a72d-8814-4f0e-a735-3138a2660af8'), successful=True, error=None), DeleteManyObject(uuid=_WeaviateUUIDInt('c54700e4-04fe-4959-88cd-fb624853aa93'), successful=True, error=None), DeleteManyObject(uuid=_WeaviateUUIDInt('f24e8b1d-b5de-4458-af6e-b581031dd4ab'), successful=True, error=None), DeleteManyObject(uuid=_WeaviateUUIDInt('208b4890-4c02-46cf-9f2d-b7c4b87c2509'), successful=True, error=None), DeleteManyObject(uuid=_WeaviateUUIDInt('0b1826af-9fbf-4f6f-a000-998f9e2a9476'), successful=True, error=None), DeleteManyObject(uuid=_WeaviateUUIDInt('bebe3d3c-a4e0-4034-bf80-267cf080ba17'), successful=True, error=None), DeleteManyObject(uuid=_WeaviateUUIDInt('c702f59d-1d3f-47d1-8ba4-f2c01021a933'), successful=True, error=None), DeleteManyObject(uuid=_WeaviateUUIDInt('64440502-5bbf-4d4b-926d-95897b9950dc'), successful=True, error=None), DeleteManyObject(uuid=_WeaviateUUIDInt('61da2a75-86bd-4b21-865d-99ba038fd0ed'), successful=True, error=None), DeleteManyObject(uuid=_WeaviateUUIDInt('3f7eb9a3-d264-4bf3-ac20-09a21aff3116'), successful=True, error=None), DeleteManyObject(uuid=_WeaviateUUIDInt('d29767c4-5d31-4e0d-91aa-8a243996bd69'), successful=True, error=None), DeleteManyObject(uuid=_WeaviateUUIDInt('438b6924-4558-4c7f-878d-16999a0352c1'), successful=True, error=None)], successful=34)\n"
     ]
    }
   ],
   "source": [
    "from weaviate.classes.query import Filter\n",
    "\n",
    "collection = client.collections.get(\"Article1\")\n",
    "result = collection.data.delete_many(\n",
    "    where=Filter.by_property(\"main_intent\").like(\"booking_service\"),\n",
    "    dry_run=True,\n",
    "    verbose=True\n",
    ")\n",
    "\n",
    "print(result)"
   ]
  },
  {
   "cell_type": "code",
   "execution_count": 9,
   "id": "54b24a27",
   "metadata": {},
   "outputs": [
    {
     "name": "stderr",
     "output_type": "stream",
     "text": [
      "/var/folders/v9/5vpscx8s60134_lcsn5c_v1w0000gq/T/ipykernel_26626/2503439863.py:6: ResourceWarning: unclosed <socket.socket fd=81, family=AddressFamily.AF_INET, type=SocketKind.SOCK_STREAM, proto=6, laddr=('192.168.88.251', 58152), raddr=('192.168.88.165', 3340)>\n",
      "  weaviate_client = WeaviateClient()\n",
      "ResourceWarning: Enable tracemalloc to get the object allocation traceback\n"
     ]
    }
   ],
   "source": [
    "from dotenv import load_dotenv\n",
    "load_dotenv()\n",
    "import sys\n",
    "sys.path.append('../')\n",
    "from src.weaviate.weaviate_client import WeaviateClient\n",
    "weaviate_client = WeaviateClient()"
   ]
  },
  {
   "cell_type": "code",
   "execution_count": null,
   "id": "a517592d",
   "metadata": {},
   "outputs": [],
   "source": []
  },
  {
   "cell_type": "code",
   "execution_count": null,
   "id": "46c0ec5e",
   "metadata": {},
   "outputs": [],
   "source": []
  }
 ],
 "metadata": {
  "kernelspec": {
   "display_name": "parallel_models",
   "language": "python",
   "name": "venv_parallel_models"
  },
  "language_info": {
   "codemirror_mode": {
    "name": "ipython",
    "version": 3
   },
   "file_extension": ".py",
   "mimetype": "text/x-python",
   "name": "python",
   "nbconvert_exporter": "python",
   "pygments_lexer": "ipython3",
   "version": "3.10.18"
  }
 },
 "nbformat": 4,
 "nbformat_minor": 5
}
